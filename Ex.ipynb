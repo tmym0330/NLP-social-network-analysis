{
 "cells": [
  {
   "cell_type": "code",
   "execution_count": 19,
   "id": "e55499d0",
   "metadata": {},
   "outputs": [],
   "source": [
    "def edit_distance_matrix(source, target, cost=[1,1,2]):\n",
    "    \"\"\"\n",
    "    Parameters:\n",
    "        source: Source string.\n",
    "        target: Target string.\n",
    "        cost: List of insertion, deletion, and substitution costs.\n",
    "\n",
    "    Returns:\n",
    "        Edit distance matrix.\n",
    "    \"\"\"\n",
    "    n = len(source)\n",
    "    m = len(target) \n",
    "    ##initialize  a matrix size (n+1)x(m+1)\n",
    "    D = [[i for i in range(n+1)] for j in range(m+1)]\n",
    "    for i in range(n+1):\n",
    "        D[i][0] = i\n",
    "    for j in range(m+1):\n",
    "        D[0][j] = j\n",
    "    ###recurrence relation\n",
    "    for i in range(1,m+1):\n",
    "        for j in range(1,n+1):\n",
    "            if source[i - 1] != target[j-1]:  # ma trận đã thêm rỗng ở đầu, còn string[0] có giá trị\n",
    "                D[i][j] = min(D[i - 1][j] + 1, D[i][j - 1] + 1, D[i-1][j-1] + 2)\n",
    "            else:\n",
    "                D[i][j] = min(D[i - 1][j] + 1, D[i][j - 1] + 1, D[i-1][j-1])\n",
    "    return D\n",
    "def min_edit_distance(source, target, cost=[1,1,2]):\n",
    "    \"\"\"\n",
    "    Parameters:\n",
    "        source: Source string.\n",
    "        target: Target string.\n",
    "        cost: List of insertion, deletion, and substitution costs.\n",
    "\n",
    "    Returns:\n",
    "        Minimum edit distance.\n",
    "    \"\"\"\n",
    "    distance = ##your code here##\n",
    "    return distance"
   ]
  }
 ],
 "metadata": {
  "kernelspec": {
   "display_name": "Python 3 (ipykernel)",
   "language": "python",
   "name": "python3"
  },
  "language_info": {
   "codemirror_mode": {
    "name": "ipython",
    "version": 3
   },
   "file_extension": ".py",
   "mimetype": "text/x-python",
   "name": "python",
   "nbconvert_exporter": "python",
   "pygments_lexer": "ipython3",
   "version": "3.9.7"
  }
 },
 "nbformat": 4,
 "nbformat_minor": 5
}
